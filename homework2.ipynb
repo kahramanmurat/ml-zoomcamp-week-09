{
 "cells": [
  {
   "cell_type": "markdown",
   "id": "fd1053ca",
   "metadata": {},
   "source": [
    "## Prepare the lambda code \n",
    "\n",
    "Now you need to copy all the code into a separate python file. You will \n",
    "need to use this file for the next two questions.\n",
    "\n",
    "Tip: you can test this file locally with `ipython` or Jupyter Notebook \n",
    "by importing the file and invoking the function from this file.  "
   ]
  },
  {
   "cell_type": "code",
   "execution_count": 1,
   "id": "84777283",
   "metadata": {},
   "outputs": [
    {
     "name": "stdout",
     "output_type": "stream",
     "text": [
      "{\"url\": \"https://upload.wikimedia.org/wikipedia/commons/9/9a/Pug_600.jpg\"}\n"
     ]
    }
   ],
   "source": [
    "# Testing the Lambda code\n",
    "import json\n",
    "\n",
    "url1 = 'https://upload.wikimedia.org/wikipedia/commons/9/9a/Pug_600.jpg'\n",
    "url2 = 'https://upload.wikimedia.org/wikipedia/commons/1/18/Vombatus_ursinus_-Maria_Island_National_Park.jpg'\n",
    "event_dict = {\n",
    "    \"url\": url1\n",
    "}\n",
    "\n",
    "event = json.dumps(event_dict)\n",
    "print(event)"
   ]
  },
  {
   "cell_type": "code",
   "execution_count": 2,
   "id": "bf3080c8",
   "metadata": {},
   "outputs": [
    {
     "data": {
      "text/plain": [
       "[0.5814766883850098]"
      ]
     },
     "execution_count": 2,
     "metadata": {},
     "output_type": "execute_result"
    }
   ],
   "source": [
    "import lambda_function\n",
    "# Lambda takes care of converting the JSON to Python dict,\n",
    "# so for local testing we send the dict instead\n",
    "lambda_function.lambda_handler(event_dict, None)"
   ]
  },
  {
   "cell_type": "markdown",
   "id": "eac565d5",
   "metadata": {},
   "source": [
    "## Docker \n",
    "\n",
    "For the next two questions, we'll use a Docker image that we already \n",
    "prepared. This is the Dockerfile that we used for creating the image:\n",
    "\n",
    "```docker\n",
    "FROM public.ecr.aws/lambda/python:3.10\n",
    "COPY bees-wasps-v2.tflite .\n",
    "```\n",
    "\n",
    "And pushed it to [`agrigorev/zoomcamp-bees-wasps:v2`](https://hub.docker.com/r/agrigorev/zoomcamp-bees-wasps/tags).\n",
    "\n",
    "A few notes:\n",
    "\n",
    "* The image already contains a model and it's not the same model\n",
    "  as the one we used for questions 1-4.\n",
    "* The version of Python is 3.10, so you need to use the right wheel for \n",
    "  TF-Lite. For Tensorflow 2.14.0, it's https://github.com/alexeygrigorev/tflite-aws-lambda/raw/main/tflite/tflite_runtime-2.14.0-cp310-cp310-linux_x86_64.whl\n"
   ]
  },
  {
   "cell_type": "markdown",
   "id": "700458d8",
   "metadata": {},
   "source": [
    "## Question 5\n",
    "\n",
    "Download the base image `agrigorev/zoomcamp-bees-wasps:v2`. You can easily make it by using [docker pull](https://docs.docker.com/engine/reference/commandline/pull/) command.\n",
    "\n",
    "So what's the size of this base image?\n",
    "\n",
    "* 162 Mb\n",
    "* 362 Mb\n",
    "* 662 Mb\n",
    "* 962 Mb\n",
    "\n",
    "You can get this information when running `docker images` - it'll be in the \"SIZE\" column."
   ]
  },
  {
   "cell_type": "code",
   "execution_count": 14,
   "id": "22341655",
   "metadata": {},
   "outputs": [
    {
     "name": "stdout",
     "output_type": "stream",
     "text": [
      "REPOSITORY                      TAG       IMAGE ID       CREATED      SIZE\r\n",
      "agrigorev/zoomcamp-bees-wasps   v2        b9f6c13de368   4 days ago   662MB\r\n"
     ]
    }
   ],
   "source": [
    "!docker images agrigorev/zoomcamp-bees-wasps:v2"
   ]
  },
  {
   "cell_type": "markdown",
   "id": "0d4adfe7",
   "metadata": {},
   "source": [
    "Answer: `662 MB`"
   ]
  },
  {
   "cell_type": "markdown",
   "id": "4cb7b959",
   "metadata": {},
   "source": [
    "## Question 6\n",
    "\n",
    "Now let's extend this docker image, install all the required libraries\n",
    "and add the code for lambda.\n",
    "\n",
    "You don't need to include the model in the image. It's already included. \n",
    "The name of the file with the model is `bees-wasps-v2.tflite` and it's \n",
    "in the current workdir in the image (see the Dockerfile above for the \n",
    "reference).\n",
    "\n",
    "Now run the container locally.\n",
    "\n",
    "Score this image: https://habrastorage.org/webt/rt/d9/dh/rtd9dhsmhwrdezeldzoqgijdg8a.jpeg\n",
    "\n",
    "What's the output from the model?\n",
    "\n",
    "* 0.2453\n",
    "* 0.4453\n",
    "* 0.6453\n",
    "* 0.8453"
   ]
  },
  {
   "cell_type": "markdown",
   "id": "3319f1ae",
   "metadata": {},
   "source": [
    "> Build the Docker image with:\n",
    "\n",
    "`docker build -f Dockerfile -t bees-wasps-lambda .`\n",
    "\n",
    "> Run the image with the following:\n",
    "\n",
    "`docker run -it --rm -p 8080:8080 bees-wasps-lambda:latest`"
   ]
  },
  {
   "cell_type": "code",
   "execution_count": 23,
   "id": "cd71bccc",
   "metadata": {},
   "outputs": [],
   "source": [
    "import requests\n",
    "\n",
    "url = 'http://localhost:8080/2015-03-31/functions/function/invocations' #docker\n",
    "data = {'url': 'https://habrastorage.org/webt/rt/d9/dh/rtd9dhsmhwrdezeldzoqgijdg8a.jpeg'}\n"
   ]
  },
  {
   "cell_type": "code",
   "execution_count": 24,
   "id": "5d36c18e",
   "metadata": {},
   "outputs": [
    {
     "data": {
      "text/plain": [
       "[0.4453350603580475]"
      ]
     },
     "execution_count": 24,
     "metadata": {},
     "output_type": "execute_result"
    }
   ],
   "source": [
    "requests.post(url, json=data).json()"
   ]
  },
  {
   "cell_type": "markdown",
   "id": "01a34c32",
   "metadata": {},
   "source": [
    "Answer: `0.4453`"
   ]
  },
  {
   "cell_type": "markdown",
   "id": "a8740aa7",
   "metadata": {},
   "source": [
    "## Publishing it to AWS\n",
    "\n",
    "Now you can deploy your model to AWS!\n",
    "\n",
    "* Publish your image to ECR\n",
    "* Create a lambda function in AWS, use the ECR image\n",
    "* Give it more RAM and increase the timeout \n",
    "* Test it\n",
    "* Expose the lambda function using API Gateway\n",
    "\n",
    "This is optional and not graded."
   ]
  },
  {
   "cell_type": "code",
   "execution_count": 26,
   "id": "2c06fca7",
   "metadata": {},
   "outputs": [],
   "source": [
    "import requests\n",
    "\n",
    "url='https://04eq8n9z4h.execute-api.us-east-1.amazonaws.com/test/predict' #api-gateway\n",
    "data = {'url': 'https://habrastorage.org/webt/rt/d9/dh/rtd9dhsmhwrdezeldzoqgijdg8a.jpeg'}"
   ]
  },
  {
   "cell_type": "code",
   "execution_count": 27,
   "id": "6d651780",
   "metadata": {},
   "outputs": [
    {
     "data": {
      "text/plain": [
       "[0.4453350603580475]"
      ]
     },
     "execution_count": 27,
     "metadata": {},
     "output_type": "execute_result"
    }
   ],
   "source": [
    "requests.post(url, json=data).json()"
   ]
  },
  {
   "cell_type": "markdown",
   "id": "bac77552",
   "metadata": {},
   "source": [
    "## Publishing to Docker hub\n",
    "\n",
    "This is just for reference, this is how we published our image to Docker hub:\n",
    "\n",
    "```bash\n",
    "docker build -f Dockerfile -t bees-wasps-lambda .\n",
    "docker tag bees-wasps-lambda   mkahraman82/zoomcamp-bees-wasps:v2\n",
    "docker push mkahraman82/zoomcamp-bees-wasps:v2\n",
    "```\n"
   ]
  },
  {
   "cell_type": "code",
   "execution_count": null,
   "id": "4d3ccd22",
   "metadata": {},
   "outputs": [],
   "source": []
  }
 ],
 "metadata": {
  "kernelspec": {
   "display_name": "Python 3 (ipykernel)",
   "language": "python",
   "name": "python3"
  },
  "language_info": {
   "codemirror_mode": {
    "name": "ipython",
    "version": 3
   },
   "file_extension": ".py",
   "mimetype": "text/x-python",
   "name": "python",
   "nbconvert_exporter": "python",
   "pygments_lexer": "ipython3",
   "version": "3.9.13"
  }
 },
 "nbformat": 4,
 "nbformat_minor": 5
}
